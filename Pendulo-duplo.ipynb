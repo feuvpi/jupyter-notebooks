{
 "cells": [
  {
   "cell_type": "code",
   "execution_count": 58,
   "id": "11eec32f",
   "metadata": {},
   "outputs": [],
   "source": [
    "# plotagens\n",
    "import matplotlib.pyplot as plt\n",
    "# calculos analiticos\n",
    "import sympy as sym\n",
    "# calculos numericos\n",
    "import numpy as np\n",
    "# equações diferenciais\n",
    "from scipy.integrate import odeint\n",
    "# animações\n",
    "from matplotlib import animation\n",
    "# animações\n",
    "from matplotlib.animation import PillowWriter"
   ]
  },
  {
   "cell_type": "code",
   "execution_count": 59,
   "id": "abb97439",
   "metadata": {},
   "outputs": [],
   "source": [
    "# l1 e l1 = comprimento dos fios\n",
    "# m1 e m2 = massa dos pesos \n",
    "# g = gravidade \n",
    "# t = tempo\n",
    "m1, m2, l1, l2, g, t = sym.symbols('m1 m2 l1 l2 g t')\n",
    "\n",
    "# the1 e the2 angulos do pendulo\n",
    "the1, the2 = sym.symbols(r'theta1 theta2', cls=sym.Function)"
   ]
  },
  {
   "cell_type": "code",
   "execution_count": 60,
   "id": "f35cd88f",
   "metadata": {},
   "outputs": [],
   "source": [
    "the1 = the1(t)\n",
    "the2 = the2(t)\n",
    "the1_d = sym.diff(the1, t) # derivada de the1 no tempo, diz respeito a velocidade angular\n",
    "the2_d = sym.diff(the2, t)\n",
    "the1_dd = sym.diff(the1_d, t) # segunda derivada de the1 no tempo, diz respeito a acelaração angular\n",
    "the2_dd = sym.diff(the2_d, t)"
   ]
  },
  {
   "cell_type": "code",
   "execution_count": 61,
   "id": "39683b6e",
   "metadata": {},
   "outputs": [],
   "source": [
    "# as coordenadas x e y serão produto do comprimento fio multiplicados pelo seno e coseno do angulos the\n",
    "x1 = -l1*sym.sin(the1)\n",
    "y1 = -l1*sym.cos(the1)\n",
    "x2 = -l1*sym.sin(the2)\n",
    "y2 = -l1*sym.cos(the2)"
   ]
  },
  {
   "cell_type": "markdown",
   "id": "226434fd",
   "metadata": {},
   "source": [
    "# EQUAÇÃO DE LAGRANGE\n",
    "\n",
    "Definindo os valores de energia cinética (T) e energia potencial (U) de cada massa\n",
    "\n",
    "T = mV²/2\n",
    "U = mgh\n",
    "\n",
    "Neste caso, a única energia potencial é a gravitacional (não considerando os efeitos elásticos do sistema).\n",
    "\n",
    "O Lagrangiano (L) pode ser definido como a diferença da energia cinética pela potencial\n",
    "\n",
    "L = T - u"
   ]
  },
  {
   "cell_type": "code",
   "execution_count": 62,
   "id": "c5d787e0",
   "metadata": {
    "scrolled": true
   },
   "outputs": [
    {
     "data": {
      "text/latex": [
       "$\\displaystyle g l_{1} m_{1} \\cos{\\left(\\theta_{1}{\\left(t \\right)} \\right)} + g l_{1} m_{2} \\cos{\\left(\\theta_{2}{\\left(t \\right)} \\right)} + 0.5 m_{1} \\left(l_{1}^{2} \\sin^{2}{\\left(\\theta_{1}{\\left(t \\right)} \\right)} \\left(\\frac{d}{d t} \\theta_{1}{\\left(t \\right)}\\right)^{2} + l_{1}^{2} \\cos^{2}{\\left(\\theta_{1}{\\left(t \\right)} \\right)} \\left(\\frac{d}{d t} \\theta_{1}{\\left(t \\right)}\\right)^{2}\\right) + 0.5 m_{2} \\left(l_{1}^{2} \\sin^{2}{\\left(\\theta_{2}{\\left(t \\right)} \\right)} \\left(\\frac{d}{d t} \\theta_{2}{\\left(t \\right)}\\right)^{2} + l_{1}^{2} \\cos^{2}{\\left(\\theta_{2}{\\left(t \\right)} \\right)} \\left(\\frac{d}{d t} \\theta_{2}{\\left(t \\right)}\\right)^{2}\\right)$"
      ],
      "text/plain": [
       "g*l1*m1*cos(theta1(t)) + g*l1*m2*cos(theta2(t)) + 0.5*m1*(l1**2*sin(theta1(t))**2*Derivative(theta1(t), t)**2 + l1**2*cos(theta1(t))**2*Derivative(theta1(t), t)**2) + 0.5*m2*(l1**2*sin(theta2(t))**2*Derivative(theta2(t), t)**2 + l1**2*cos(theta2(t))**2*Derivative(theta2(t), t)**2)"
      ]
     },
     "execution_count": 62,
     "metadata": {},
     "output_type": "execute_result"
    }
   ],
   "source": [
    "T1 = 1/2*m1*(sym.diff(x1,t)**2 + sym.diff(y1,t)**2)\n",
    "U1 = y1*m1*g\n",
    "\n",
    "T2 = 1/2*m2*(sym.diff(x2,t)**2 + sym.diff(y2,t)**2)\n",
    "U2 = y2*m2*g\n",
    "\n",
    "T = T1 + T2\n",
    "U = U1 + U2\n",
    "\n",
    "L = T - U\n",
    "L"
   ]
  },
  {
   "cell_type": "code",
   "execution_count": 63,
   "id": "0c612487",
   "metadata": {},
   "outputs": [
    {
     "data": {
      "text/latex": [
       "$\\displaystyle l_{1} m_{1} \\left(g \\sin{\\left(\\theta_{1}{\\left(t \\right)} \\right)} + l_{1} \\frac{d^{2}}{d t^{2}} \\theta_{1}{\\left(t \\right)}\\right)$"
      ],
      "text/plain": [
       "l1*m1*(g*sin(theta1(t)) + l1*Derivative(theta1(t), (t, 2)))"
      ]
     },
     "execution_count": 63,
     "metadata": {},
     "output_type": "execute_result"
    }
   ],
   "source": [
    "EqL1 = (sym.diff(L, the1_d, t)-sym.diff(L, the1)).simplify()\n",
    "EqL2 = (sym.diff(L, the2_d, t)-sym.diff(L, the2)).simplify()\n",
    "EqL1"
   ]
  },
  {
   "cell_type": "code",
   "execution_count": 64,
   "id": "449bc862",
   "metadata": {},
   "outputs": [
    {
     "data": {
      "text/latex": [
       "$\\displaystyle - \\frac{g \\sin{\\left(\\theta_{1}{\\left(t \\right)} \\right)}}{l_{1}}$"
      ],
      "text/plain": [
       "-g*sin(theta1(t))/l1"
      ]
     },
     "execution_count": 64,
     "metadata": {},
     "output_type": "execute_result"
    }
   ],
   "source": [
    "sol = sym.solve([EqL1, EqL2], (the1_dd, the2_dd))\n",
    "sol[the1_dd]"
   ]
  },
  {
   "cell_type": "code",
   "execution_count": 65,
   "id": "2d0cffff",
   "metadata": {},
   "outputs": [],
   "source": [
    "v1_f = sym.lambdify(the1_d, the1_d)\n",
    "v2_f = sym.lambdify(the2_d, the2_d)\n",
    "\n",
    "dv1_f = sym.lambdify((t,g, m1, m2, l1, l2, the1, the2, the1_d, the2_d),sol[the1_dd])\n",
    "dv2_f = sym.lambdify((t,g, m1, m2, l1, l2, the1, the2, the1_d, the2_d),sol[the2_dd])"
   ]
  },
  {
   "cell_type": "code",
   "execution_count": 66,
   "id": "84a6b280",
   "metadata": {},
   "outputs": [],
   "source": [
    "def dSdt(S,t,g,m1,m2,l1,l2):\n",
    "    the1, the2, v1, v2 = S\n",
    "    return[\n",
    "        v1_f(v1),\n",
    "        v2_f(v2),\n",
    "        dv1_f(t,g,m1,m2,l1,l2,the1,the2,v1,v2),\n",
    "        dv2_f(t,g,m1,m2,l1,l2,the1,the2,v1,v2),\n",
    "    ]"
   ]
  },
  {
   "cell_type": "code",
   "execution_count": 67,
   "id": "40bd8087",
   "metadata": {},
   "outputs": [],
   "source": [
    "t_f = 50\n",
    "n_passo = 10000\n",
    "t = np.linspace(0,t_f,n_passo)\n",
    "\n",
    "# constantes\n",
    "m1 = 3 \n",
    "m2 = 3\n",
    "l1 = 1\n",
    "l2 = 1.5\n",
    "g = 9.81\n",
    "\n",
    "the1_10 = 2\n",
    "the2_10 = 2\n",
    "dthe1_10 = 0\n",
    "dthe2_10 = 0\n",
    "\n",
    "the1_20 = 2.01\n",
    "the2_20 = 1.99\n",
    "dthe1_20 = 0\n",
    "dthe2_20 = 0\n",
    "\n",
    "the1_30 = 1.99\n",
    "the2_30 = 1.99\n",
    "dthe1_30 = 0\n",
    "dthe2_30 = 0\n",
    "\n",
    "resposta1 = odeint(dSdt,y0=[the1_10,the2_10,dthe1_10,dthe2_10],t=t,args=(g,m1,m2,l1,l2))\n",
    "resposta2 = odeint(dSdt, y0=[the1_20, the2_20, dthe1_20, dthe2_20], t=t,args=(g,m1,m2,l1,l2))\n",
    "resposta3 = odeint(dSdt, y0=[the1_30, the2_30, dthe1_30, dthe2_30], t=t,args=(g,m1,m2,l1,l2))\n",
    "\n"
   ]
  },
  {
   "cell_type": "code",
   "execution_count": 68,
   "id": "34535b83",
   "metadata": {},
   "outputs": [
    {
     "data": {
      "text/plain": [
       "array([[ 2.        ,  2.        ,  0.        ,  0.        ],\n",
       "       [ 1.99988847,  1.99988847, -0.04460627, -0.04460627],\n",
       "       [ 1.99955389,  1.99955389, -0.08921708, -0.08921708],\n",
       "       ...,\n",
       "       [ 0.02597948,  0.02597948,  5.27049902,  5.27049902],\n",
       "       [ 0.05233035,  0.05233035,  5.26857879,  5.26857879],\n",
       "       [ 0.07866839,  0.07866839,  5.26536806,  5.26536806]])"
      ]
     },
     "execution_count": 68,
     "metadata": {},
     "output_type": "execute_result"
    }
   ],
   "source": [
    "resposta1"
   ]
  },
  {
   "cell_type": "code",
   "execution_count": 69,
   "id": "f2f02fe1",
   "metadata": {},
   "outputs": [],
   "source": [
    "the1_1t = resposta1.T[0]\n",
    "the2_1t = resposta1.T[1]\n",
    "dthe1_1t = resposta1.T[2]\n",
    "dthe2_1t = resposta1.T[3]\n",
    "\n",
    "the1_2t = resposta2.T[0]\n",
    "the2_2t = resposta2.T[1]\n",
    "dthe1_2t = resposta2.T[2]\n",
    "dthe2_2t = resposta2.T[3]\n",
    "\n",
    "the1_3t = resposta3.T[0]\n",
    "the2_3t = resposta3.T[1]\n",
    "dthe1_3t = resposta3.T[2]\n",
    "dthe2_3t = resposta3.T[3]\n"
   ]
  },
  {
   "cell_type": "markdown",
   "id": "da101952",
   "metadata": {},
   "source": [
    "# VISUALIZAÇÃO DE RESULTADOS"
   ]
  },
  {
   "cell_type": "code",
   "execution_count": 70,
   "id": "560523e6",
   "metadata": {},
   "outputs": [
    {
     "data": {
      "text/plain": [
       "[<matplotlib.lines.Line2D at 0x2393802b550>]"
      ]
     },
     "execution_count": 70,
     "metadata": {},
     "output_type": "execute_result"
    },
    {
     "data": {
      "image/png": "[encoded data removed]",
      "text/plain": [
       "<Figure size 432x288 with 1 Axes>"
      ]
     },
     "metadata": {
      "needs_background": "light"
     },
     "output_type": "display_data"
    }
   ],
   "source": [
    "plt.plot(t,the1_1t)"
   ]
  },
  {
   "cell_type": "code",
   "execution_count": 71,
   "id": "cb9596d3",
   "metadata": {},
   "outputs": [],
   "source": [
    "def pos(t,the1,the2,l1,l2):\n",
    "    x1 = -l1*np.sin(the1)\n",
    "    y1 = -l1*np.cos(the1)\n",
    "    x2 = -l1*np.sin(the2) + x1\n",
    "    y2 = -l1*np.cos(the2) + y1\n",
    "    return[\n",
    "        x1, y1, x2, y2\n",
    "    ]\n",
    "\n",
    "x11,y11,x12,y12 = pos(t,the1_1t,the2_1t,l1,l2)\n",
    "x21,y21,x22,y22 = pos(t,the1_2t,the2_2t,l1,l2)\n",
    "x31,y31,x32,y32 = pos(t,the1_3t,the2_3t,l1,l2)"
   ]
  },
  {
   "cell_type": "code",
   "execution_count": 72,
   "id": "dfa040dc",
   "metadata": {},
   "outputs": [],
   "source": [
    "def animate(i):\n",
    "    ln1.set_data([0, x1, x12[1]], [0, y11[i], y12[i]])\n",
    "    ln2.set_data([0, x21, x22[1]], [0, y21[i], y22[i]])\n",
    "    ln2.set_data([0, x31, x32[1]], [0, y31[i], y32[i]])\n",
    "    \n",
    "    fig, ax = plt.subplots(1,1, figsize=(8,8))\n",
    "    ax.set_facecolor('k')\n",
    "    ax.get_xaxis().set_ticks([])\n",
    "    ax.get_yaxis().set_ticks([])\n",
    "    \n",
    "    ln1 = plt.plot([], [], 'yo--', lw=2, markersize=8)\n",
    "    ln2 = plt.plot([], [], 'co--', lw=2, markersize=8)\n",
    "    ln3 = plt.plot([], [], 'go--', lw=2, markersize=8)\n",
    "    \n",
    "    ax.set_ylim(-4,4)\n",
    "    ax.set_xlim(-4,4)\n",
    "    \n",
    "    ani = animation.FuncAnimation(fig, animate, frames=n_passo, interval=50)\n",
    "    ani.save('pen.gif', write='pillow', fps=len(t[t<1]))\n",
    "    \n",
    "    "
   ]
  },
  {
   "cell_type": "code",
   "execution_count": null,
   "id": "03116b23",
   "metadata": {},
   "outputs": [],
   "source": []
  }
 ],
 "metadata": {
  "kernelspec": {
   "display_name": "Python 3 (ipykernel)",
   "language": "python",
   "name": "python3"
  },
  "language_info": {
   "codemirror_mode": {
    "name": "ipython",
    "version": 3
   },
   "file_extension": ".py",
   "mimetype": "text/x-python",
   "name": "python",
   "nbconvert_exporter": "python",
   "pygments_lexer": "ipython3",
   "version": "3.9.12"
  }
 },
 "nbformat": 4,
 "nbformat_minor": 5
}
